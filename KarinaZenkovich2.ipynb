a = 'Не знаю, как там в Лондоне, я не была. Может, там собака — друг человека. А у нас управдом — друг человека!'
print(a)
print('Количество символов - ' + str(len(a))) #This is normal
from IPython.display import Markdown, display
def printmd(string):
    display(Markdown(string))
printmd(f'**Количество символов - {str(a)}**') #This is bold first option
printmd('**Количество символов - ' + str(a) + '**') #This is bold second option
printmd('**Развёрнутая строка - ' + a[::-1] + '**')
setup = a
setup.title ()
printmd ('**Каждое слово с большой буквы - ' + setup.title () + '**')
setup.upper()
printmd('**Все прописные буквы - ' + setup.upper() + '**')
word1 = 'нд'
a.count (word1)
word2 = 'ам'
a.count (word2)
word3 = 'о'
a.count (word3)
printmd('**\'нд\' больше чем \'ам\': ' + str (a.count (word1) > a.count (word2)) + '**')
printmd('**\'нд\' больше чем \'о\': ' + str (a.count (word1) > a.count (word3)) + '**')
printmd('**\'ам\' больше чем \'нд\': ' + str (a.count (word2) > a.count (word1)) + '**')
printmd('**Собственные упражнения**')
b = 'Не знаю, как там в Лондоне, я не была.\nМожет, там собака — друг человека.\nА у нас управдом — друг человека!'
print (b) #Broken up by lines
a = 'Не знаю, как там в Лондоне, я не была. Может, там собака — друг человека. А у нас управдом — друг человека!'
a.startswith('Не знаю') #Does this sentence start with 'Не знаю'?
setup.replace ('управдом','кошка') # Replacing words
